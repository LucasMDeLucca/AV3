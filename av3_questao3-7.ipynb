{
 "cells": [
  {
   "cell_type": "markdown",
   "metadata": {},
   "source": [
    "# Mandelbrot Set Visualization\n",
    "\n",
    "This notebook generates a visualization of the Mandelbrot set using Python. The Mandelbrot set is a fractal defined by the iteration `z' = z^2 + c`, where `z` and `c` are complex numbers. A point `c` is in the Mandelbrot set if the magnitude of `z` never exceeds 2 during repeated iterations, starting with `z = 0`."
   ]
  },
  {
   "cell_type": "code",
   "execution_count": null,
   "metadata": {},
   "outputs": [],
   "source": [
    "import numpy as np\n",
    "import matplotlib.pyplot as plt\n",
    "\n",
    "def mandelbrot(c, max_iter):\n",
    "    z = 0\n",
    "    for n in range(max_iter):\n",
    "        z = z*z + c\n",
    "        if abs(z) > 2:\n",
    "            return n\n",
    "    return max_iter\n",
    "\n",
    "# Image dimensions and iteration parameters\n",
    "N = 100  # Initial grid size (for testing). Increase for higher quality.\n",
    "max_iterations = 100\n",
    "\n",
    "# Define the region in the complex plane\n",
    "x_min, x_max = -2, 2\n",
    "y_min, y_max = -2, 2\n",
    "\n",
    "x = np.linspace(x_min, x_max, N)\n",
    "y = np.linspace(y_min, y_max, N)\n",
    "\n",
    "# Create a 2D array to store the results\n",
    "mandelbrot_set = np.zeros((N, N))\n",
    "\n",
    "for i in range(N):\n",
    "    for j in range(N):\n",
    "        c = complex(x[j], y[i])\n",
    "        mandelbrot_set[i, j] = mandelbrot(c, max_iterations)\n",
    "\n",
    "# Create the image\n",
    "plt.figure(figsize=(8, 8))\n",
    "plt.imshow(mandelbrot_set, cmap='binary', extent=[x_min, x_max, y_min, y_max])\n",
    "plt.colorbar(label='Iterations to diverge (black if in set)')\n",
    "plt.title('Mandelbrot Set (Black: In Set, White: Outside Set)')\n",
    "plt.xlabel('Real (x)')\n",
    "plt.ylabel('Imaginary (y)')\n",
    "plt.savefig('mandelbrot_set.png')\n",
    "plt.show()"
   ]
  }
 ],
 "metadata": {
  "kernelspec": {
   "display_name": "Python 3",
   "language": "python",
   "name": "python3"
  },
  "language_info": {
   "codemirror_mode": {
    "name": "ipython",
    "version": 3
   },
   "file_extension": ".py",
   "mimetype": "text/x-python",
   "name": "python",
   "nbconvert_exporter": "python",
   "pygments_lexer": "ipython3",
   "version": "3.11.0rc1"
  }
 },
 "nbformat": 4,
 "nbformat_minor": 4
}

