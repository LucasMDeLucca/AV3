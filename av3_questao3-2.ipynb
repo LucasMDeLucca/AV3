{
 "cells": [
  {
   "cell_type": "markdown",
   "metadata": {},
   "source": [
    "# Exemplo 3.2: Visualizando uma Rede Atômica com Python\n",
    "\n",
    "## Introdução\n",
    "Este notebook aborda o Exemplo 3.2 do Capítulo 3, 'Gráficos e Visualização', que descreve como visualizar uma rede atômica cúbica simples. O exemplo original utiliza o pacote `visual` (VPython) para criar esferas em posições específicas. No entanto, para garantir a compatibilidade e a execução em ambientes de notebook sem a necessidade de um ambiente gráfico interativo VPython, adaptaremos a solução para usar a biblioteca `matplotlib` para uma visualização 3D estática. Isso nos permitirá representar a estrutura da rede atômica de forma clara e compreensível.\n",
    "\n",
    "## O Problema Original (Exemplo 3.2)\n",
    "O problema propõe a visualização de átomos dispostos em uma rede cúbica simples. A ideia é colocar esferas em posições (i, j, k) onde i, j, k variam de -L a L. O código original fornecido no livro é o seguinte:\n",
    "\n",
    "```python\n",
    "from visual import sphere\n",
    "L = 5\n",
    "R = 0.3\n",
    "for i in range(-L,L+1):\n",
    "    for j in range(-L,L+1):\n",
    "        for k in range(-L,L+1):\n",
    "            sphere(pos=[i,j,k],radius=R)\n",
    "```\n",
    "\n",
    "Este código cria uma série de esferas, cada uma representando um átomo, em uma grade 3D. A variável `L` define a extensão da rede, e `R` define o raio das esferas.\n",
    "\n",
    "## Adaptação para Matplotlib\n",
    "Como mencionado, o pacote `visual` (VPython) é projetado para visualizações 3D interativas que exigem um ambiente gráfico específico. Para uma solução mais portátil e que possa ser executada em um ambiente de servidor (como este sandbox), utilizaremos `matplotlib` para criar um gráfico de dispersão 3D. Embora não seja interativo da mesma forma que o VPython, ele ainda nos permite visualizar a estrutura espacial da rede atômica.\n",
    "\n",
    "### Implementação\n",
    "A lógica central de iterar sobre as coordenadas (i, j, k) permanece a mesma. Em vez de chamar `sphere` do pacote `visual`, coletaremos as coordenadas de cada 'átomo' e as usaremos para criar um gráfico de dispersão 3D com `matplotlib.pyplot`.\n"
   ]
  },
  {
   "cell_type": "code",
   "execution_count": null,
   "metadata": {},
   "outputs": [],
   "source": [
    "import matplotlib.pyplot as plt\n",
    "from mpl_toolkits.mplot3d import Axes3D\n",
    "import numpy as np\n",
    "\n",
    "# Parâmetros da rede\n",
    "L = 2  # Reduzido para L=2 para uma visualização mais rápida e clara no notebook\n",
    "R = 0.3 # Raio das esferas (não diretamente usado para o tamanho do ponto em scatter, mas para conceito)\n",
    "\n",
    "# Listas para armazenar as coordenadas dos átomos\n",
    "x_coords = []\n",
    "y_coords = []\n",
    "z_coords = []\n",
    "\n",
    "# Iterar sobre as posições da rede\n",
    "for i in range(-L, L + 1):\n",
    "    for j in range(-L, L + 1):\n",
    "        for k in range(-L, L + 1):\n",
    "            x_coords.append(i)\n",
    "            y_coords.append(j)\n",
    "            z_coords.append(k)\n",
    "\n",
    "# Criar a figura e o eixo 3D\n",
    "fig = plt.figure(figsize=(10, 10))\n",
    "ax = fig.add_subplot(111, projection='3d')\n",
    "\n",
    "# Plotar os átomos como pontos em um gráfico de dispersão 3D\n",
    "ax.scatter(x_coords, y_coords, z_coords, c='blue', marker='o', s=100) # s é o tamanho do marcador\n",
    "\n",
    "# Configurar rótulos dos eixos\n",
    "ax.set_xlabel('Eixo X')\n",
    "ax.set_ylabel('Eixo Y')\n",
    "ax.set_zlabel('Eixo Z')\n",
    "\n",
    "# Configurar título\n",
    "ax.set_title('Visualização de uma Rede Atômica Cúbica Simples (L=' + str(L) + ')')\n",
    "\n",
    "# Ajustar os limites dos eixos para garantir que todos os pontos sejam visíveis\n",
    "ax.set_xlim([-L-1, L+1])\n",
    "ax.set_ylim([-L-1, L+1])\n",
    "ax.set_zlim([-L-1, L+1])\n",
    "\n",
    "# Salvar a imagem\n",
    "plt.savefig('rede_atomica.png')\n",
    "\n",
    "# Mostrar o gráfico (opcional, para ambientes interativos)\n",
    "plt.show()\n"
   ]
  },
  {
   "cell_type": "markdown",
   "metadata": {},
   "source": [
    "## Comentários e Análise\n",
    "O código acima gera uma representação visual da rede atômica. Cada ponto azul no gráfico representa um átomo na rede cúbica simples. Reduzimos o valor de `L` para 2 para que a visualização seja mais rápida e clara, mas você pode aumentar `L` para ver uma rede maior. O tamanho dos pontos (`s`) no `scatter` pode ser ajustado para simular o raio dos átomos.\n",
    "\n",
    "A visualização 3D do `matplotlib` permite rotacionar e inspecionar a estrutura de diferentes ângulos em um ambiente interativo (se executado localmente em um Jupyter Notebook com backend adequado). Em um ambiente não interativo, a imagem é salva como `rede_atomica.png`.\n",
    "\n",
    "### Considerações Finais\n",
    "Embora a biblioteca `visual` (VPython) seja excelente para simulações físicas interativas, `matplotlib` oferece uma alternativa robusta para visualizações estáticas e programáticas em Python, sendo ideal para a geração de gráficos em ambientes onde a interatividade em tempo real não é o foco principal ou não é suportada. Esta adaptação demonstra a flexibilidade do Python para resolver problemas de visualização com diferentes ferramentas, dependendo dos requisitos do ambiente e do tipo de saída desejada.\n"
   ]
  }
 ],
 "metadata": {
  "kernelspec": {
   "display_name": "Python 3",
   "language": "python",
   "name": "python3"
  },
  "language_info": {
   "codemirror_mode": {
    "name": "ipython",
    "version": 3
   },
   "file_extension": ".py",
   "mimetype": "text/x-python",
   "name": "python",
   "nbconvert_exporter": "python",
   "pygments_lexer": "ipython3",
   "version": "3.11.0rc1"
  }
 },
 "nbformat": 4,
 "nbformat_minor": 4
}

